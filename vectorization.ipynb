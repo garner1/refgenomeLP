{
 "cells": [
  {
   "cell_type": "markdown",
   "metadata": {},
   "source": [
    "Given a genomic region (union of continous DNA portions) segmented into short DNA words, we build a statistics taking into account the frequency of occurrence of each word and the frequency of co-occurrence of pairs of words in the same window (this can be the fragment or a larger bin in the genome). We can keep the information about the linear location of the fragments or not (the best strategy can be chosen afterwards depending on the result of clustering, for example). "
   ]
  },
  {
   "cell_type": "code",
   "execution_count": 1,
   "metadata": {},
   "outputs": [],
   "source": [
    "import sys\n",
    "import csv\n",
    "import numpy as np\n",
    "import os.path\n",
    "import cPickle as pickle\n",
    "import matplotlib.pyplot as plt\n",
    "import gensim, logging\n",
    "from os import listdir\n",
    "from os.path import isfile, join\n",
    "\n",
    "logging.basicConfig(format='%(asctime)s : %(levelname)s : %(message)s', level=logging.INFO)\n",
    "###############################################################                                                                                                                                             \n",
    "import sklearn\n",
    "from sklearn import datasets\n",
    "from sklearn.feature_extraction.text import CountVectorizer"
   ]
  },
  {
   "cell_type": "markdown",
   "metadata": {},
   "source": [
    "Given a bam file, we select the 50bp left/right extension of the reference locations (reference genome is GRCh37). We tokenize these fragments and build a document-term matrix from the segmented chr 1 to 22 (no X, Y and MT). This matrix is extremely sparse given tha large size of the vocabulary and the small number of terms per document."
   ]
  },
  {
   "cell_type": "code",
   "execution_count": null,
   "metadata": {},
   "outputs": [],
   "source": [
    "vectorizer = CountVectorizer(min_df=1) # set the min numb of times a word can occur\n",
    "corpus = open('/home/garner1/Work/dataset/refgenomeLP/docs/1.doc')\n",
    "dtm = vectorizer.fit_transform(corpus) # get document-term matrix                                                                                                                                           \n",
    "vocab = vectorizer.get_feature_names() # a list  "
   ]
  },
  {
   "cell_type": "markdown",
   "metadata": {},
   "source": [
    "Get the occurrence of each unique word in the list of documents, and observe how the majority of the words is rare and there are few words shared by the majority of the documents. "
   ]
  },
  {
   "cell_type": "code",
   "execution_count": null,
   "metadata": {},
   "outputs": [],
   "source": [
    "print (dtm.shape)\n",
    "dtm_word = dtm.sum(axis=0)\n",
    "print (dtm_word.shape)\n",
    "\n",
    "%matplotlib inline\n",
    "\n",
    "import seaborn as sns\n",
    "sns.set(color_codes=True)\n",
    "\n",
    "ax = sns.distplot(dtm_word[(dtm_word<10000) & (dtm_word>1)], bins=20, kde=False)\n",
    "ax.set_yscale('log')\n",
    "ax.set_ylabel('number of unique words occurring x times')\n",
    "ax.set_xlabel('x = number of documents sharing a given unique word')"
   ]
  },
  {
   "cell_type": "markdown",
   "metadata": {},
   "source": [
    "Decompose the document-term matrix using truncated SVD (note that singular values are sorted in ascending order). This identifies main \"topics\" (each one an ensemble of words of different weights, as expressed by vt rows), and the relevance of each topic for the list of documents is given by u columns:"
   ]
  },
  {
   "cell_type": "code",
   "execution_count": null,
   "metadata": {},
   "outputs": [],
   "source": [
    "from scipy.sparse.linalg import svds, eigs\n",
    "\n",
    "u, s, vt = svds(dtm.asfptype(), k=10)\n",
    "import seaborn as sns\n",
    "sns.set(color_codes=True)\n",
    "sns.pointplot(range(len(s)),s)"
   ]
  },
  {
   "cell_type": "code",
   "execution_count": null,
   "metadata": {},
   "outputs": [],
   "source": [
    "from bokeh.plotting import figure, output_file, show\n",
    "\n",
    "# prepare some data\n",
    "mode = 8\n",
    "#x = range(len(u[:,vec]))\n",
    "#y = u[:,vec]\n",
    "x = range(len(vt[mode,:]))\n",
    "y = vt[mode,:]\n",
    "\n",
    "# output to static HTML file\n",
    "output_file(\"lines.html\")\n",
    "\n",
    "# create a new plot with a title and axis labels\n",
    "p = figure(title=\"eigenword\", x_axis_label='document', y_axis_label='y')\n",
    "\n",
    "# add a line renderer with legend and line thickness\n",
    "p.circle(x, y, legend=\"Temp.\", size=6)\n",
    "\n",
    "# show the results\n",
    "show(p)"
   ]
  },
  {
   "cell_type": "markdown",
   "metadata": {},
   "source": [
    "A term-term co-occurence matrix is obtained as the product of dtm.T * dtm. This also is a sparse matrix and, after truncated SVD, we can identify main eigenwords:"
   ]
  },
  {
   "cell_type": "code",
   "execution_count": null,
   "metadata": {},
   "outputs": [],
   "source": [
    "from scipy.sparse import coo_matrix\n",
    "from numpy import *\n",
    "\"\"\"\n",
    "Compute the PPMI values for the raw co-occurrence matrix.\n",
    "PPMI values will be written to mat and it will get overwritten.\n",
    "\"\"\"    \n",
    "mat = dtm.transpose().dot(dtm)      # build word-word matrix\n",
    "rows,cols = mat.nonzero() # get the list of non-zero rows and cols index\n",
    "data = np.divide(mat.data*1.0,dtm_word[0,rows]*1.0) # pointwise division of data matrix by row-sum\n",
    "data = np.divide(data,dtm_word[0,cols]*1.0) # pointwise division by col-sum\n",
    "data = data*dtm_word.sum() #rescaling by number of tokens\n",
    "data = np.squeeze(np.asarray(data))\n",
    "\n",
    "coomat = coo_matrix((data, (rows, cols)), shape=mat.shape) # sparse mat in coordinate format\n",
    "coomat.data = ma.log(coomat.data)\n",
    "coomat.data = ma.masked_less(coomat.data, 0)"
   ]
  },
  {
   "cell_type": "code",
   "execution_count": null,
   "metadata": {},
   "outputs": [],
   "source": [
    "from scipy.sparse.linalg import svds\n",
    "\n",
    "[u,s,vt] = svds(coomat, k=6, which='LM', return_singular_vectors=True)"
   ]
  },
  {
   "cell_type": "markdown",
   "metadata": {},
   "source": [
    "Load the pickle files containing the vocabulary and the truncated singular value components U, S, VT at k=6"
   ]
  },
  {
   "cell_type": "code",
   "execution_count": 3,
   "metadata": {},
   "outputs": [
    {
     "name": "stdout",
     "output_type": "stream",
     "text": [
      "XZ119.genome.doc.p\n",
      "1 of 16\n",
      "XZ121.genome.doc.p\n",
      "2 of 16\n",
      "XZ120.genome.doc.p\n",
      "3 of 16\n",
      "XZ82.genome.doc.p\n",
      "4 of 16\n",
      "XZ114.genome.doc.p\n",
      "5 of 16\n",
      "XZ88.genome.doc.p\n",
      "6 of 16\n",
      "XZ86.genome.doc.p\n",
      "7 of 16\n",
      "XZ122.genome.doc.p\n",
      "8 of 16\n",
      "XZ89.genome.doc.p\n",
      "9 of 16\n",
      "XZ85.genome.doc.p\n",
      "10 of 16\n",
      "XZ90.genome.doc.p\n",
      "11 of 16\n",
      "XZ83.genome.doc.p\n",
      "12 of 16\n",
      "XZ117.genome.doc.p\n",
      "13 of 16\n",
      "XZ118.genome.doc.p\n",
      "14 of 16\n",
      "XZ115.genome.doc.p\n",
      "15 of 16\n",
      "XZ91.genome.doc.p\n",
      "16 of 16\n"
     ]
    }
   ],
   "source": [
    "allfiles = [] # Creates an empty list\n",
    "ind = 0\n",
    "for root, dirs, files, in os.walk(\"/home/garner1/Work/dataset/refgenomeLP/pickle_vocabularies/\"):\n",
    "    for file in files:\n",
    "        ind = ind+1\n",
    "        if file.endswith(\".p\"):\n",
    "            print (file)\n",
    "            print (str(ind) + \" of \" + str(len(files)) )\n",
    "            openfiles = open(os.path.join(root, file), 'rb')\n",
    "            loadedfiles = pickle.load(openfiles)\n",
    "            allfiles.append(loadedfiles)"
   ]
  },
  {
   "cell_type": "markdown",
   "metadata": {},
   "source": [
    "Print the length of all vocabularies:"
   ]
  },
  {
   "cell_type": "code",
   "execution_count": 7,
   "metadata": {},
   "outputs": [
    {
     "name": "stdout",
     "output_type": "stream",
     "text": [
      "(0, 5572869)\n",
      "(1, 5497812)\n",
      "(2, 5672489)\n",
      "(3, 5680769)\n",
      "(4, 4465900)\n",
      "(5, 4245431)\n",
      "(6, 4932394)\n",
      "(7, 5835234)\n",
      "(8, 5447224)\n",
      "(9, 5173049)\n",
      "(10, 5531376)\n",
      "(11, 5202919)\n",
      "(12, 5808104)\n",
      "(13, 3773472)\n",
      "(14, 4429137)\n",
      "(15, 5725429)\n"
     ]
    }
   ],
   "source": [
    "for ind in range(16):\n",
    "    print(ind,len(allfiles[ind][0]))"
   ]
  },
  {
   "cell_type": "markdown",
   "metadata": {},
   "source": [
    "Evaluate the intersection of different sets:"
   ]
  },
  {
   "cell_type": "code",
   "execution_count": 12,
   "metadata": {},
   "outputs": [
    {
     "name": "stdout",
     "output_type": "stream",
     "text": [
      "5572869\n",
      "4796189\n",
      "4391852\n",
      "4137231\n",
      "3446704\n",
      "2817330\n",
      "2603217\n",
      "2554646\n",
      "2486328\n",
      "2402500\n",
      "2363566\n",
      "2287332\n",
      "2277549\n",
      "1965027\n",
      "1876377\n"
     ]
    }
   ],
   "source": [
    "oldset = set(allfiles[0][0])\n",
    "for ind in range(1,16):\n",
    "    print (len(oldset))\n",
    "    newset = set(allfiles[ind][0])\n",
    "    common_voc = set.intersection(oldset,newset)\n",
    "    oldset = common_voc"
   ]
  },
  {
   "cell_type": "code",
   "execution_count": 51,
   "metadata": {},
   "outputs": [],
   "source": [
    "vectorizer = CountVectorizer(min_df=1, vocabulary=common_voc) # set the min numb of times a word can occur\n",
    "corpus = open('/home/garner1/Work/dataset/refgenomeLP/XZ114/docs/1.doc')\n",
    "dtm = vectorizer.fit_transform(corpus) # get document-term matrix                                                                                                                                           "
   ]
  },
  {
   "cell_type": "markdown",
   "metadata": {},
   "source": [
    "Load the truncated SVD from each sample:"
   ]
  },
  {
   "cell_type": "code",
   "execution_count": 2,
   "metadata": {},
   "outputs": [
    {
     "name": "stdout",
     "output_type": "stream",
     "text": [
      "XZ88.p\n",
      "1 of 16\n",
      "XZ86.p\n",
      "2 of 16\n",
      "XZ82.p\n",
      "3 of 16\n",
      "XZ121.p\n",
      "4 of 16\n",
      "XZ122.p\n",
      "5 of 16\n",
      "XZ91.p\n",
      "6 of 16\n",
      "XZ117.p\n",
      "7 of 16\n",
      "XZ90.p\n",
      "8 of 16\n",
      "XZ118.p\n",
      "9 of 16\n",
      "XZ83.p\n",
      "10 of 16\n",
      "XZ114.p\n",
      "11 of 16\n",
      "XZ85.p\n",
      "12 of 16\n",
      "XZ120.p\n",
      "13 of 16\n",
      "XZ89.p\n",
      "14 of 16\n",
      "XZ115.p\n",
      "15 of 16\n",
      "XZ119.p\n",
      "16 of 16\n"
     ]
    }
   ],
   "source": [
    "allfiles = [] # Creates an empty list\n",
    "ind = 0\n",
    "for root, dirs, files, in os.walk(\"/home/garner1/Work/dataset/refgenomeLP/SVD_from_DTM/\"):\n",
    "    for file in files:\n",
    "        ind = ind+1\n",
    "        if file.endswith(\".p\"):\n",
    "            print (file)\n",
    "            print (str(ind) + \" of \" + str(len(files)) )\n",
    "            openfiles = open(os.path.join(root, file), 'rb')\n",
    "            loadedfiles = pickle.load(openfiles)\n",
    "            allfiles.append(loadedfiles)"
   ]
  },
  {
   "cell_type": "markdown",
   "metadata": {},
   "source": [
    "Plot the singular values of different sampeles:"
   ]
  },
  {
   "cell_type": "code",
   "execution_count": 9,
   "metadata": {},
   "outputs": [
    {
     "data": {
      "image/png": "[encoded data removed]",
      "text/plain": [
       "<matplotlib.figure.Figure at 0x7fe8b23411d0>"
      ]
     },
     "metadata": {},
     "output_type": "display_data"
    }
   ],
   "source": [
    "%matplotlib inline\n",
    "import matplotlib.pyplot as plt\n",
    "plt.style.use('seaborn-whitegrid')\n",
    "\n",
    "fig = plt.figure()\n",
    "ax = plt.axes()\n",
    "x = np.linspace(0, 1, 6)\n",
    "for ind in range(6):\n",
    "    ax.plot(x, allfiles[ind][1])"
   ]
  },
  {
   "cell_type": "markdown",
   "metadata": {},
   "source": [
    "Multiply U with S for each sample"
   ]
  },
  {
   "cell_type": "code",
   "execution_count": 49,
   "metadata": {},
   "outputs": [],
   "source": [
    "X = np.zeros( (len(allfiles),allfiles[0][0].shape[0]*allfiles[0][0].shape[1]) )\n",
    "for ind in range(6):\n",
    "    a = np.asarray(allfiles[ind][0])\n",
    "    b = np.diag( allfiles[ind][1] ) \n",
    "    X[ind,:] = np.dot(a, b).reshape((1,a.shape[0]*b.shape[1])) "
   ]
  },
  {
   "cell_type": "code",
   "execution_count": 54,
   "metadata": {},
   "outputs": [],
   "source": [
    "from scipy.spatial.distance import pdist, squareform\n",
    "\n",
    "Y = pdist(X, 'euclidean')\n",
    "D = squareform(Y)"
   ]
  },
  {
   "cell_type": "code",
   "execution_count": 57,
   "metadata": {},
   "outputs": [
    {
     "name": "stdout",
     "output_type": "stream",
     "text": [
      "[    0.          5170.95692139  8011.13310296  6989.1698261\n",
      " 41791.39449748  8243.23321471 35518.15719322 35518.15719322\n",
      " 35518.15719322 35518.15719322 35518.15719322 35518.15719322\n",
      " 35518.15719322 35518.15719322 35518.15719322 35518.15719322]\n"
     ]
    }
   ],
   "source": [
    "print(D[0,:])"
   ]
  },
  {
   "cell_type": "code",
   "execution_count": 58,
   "metadata": {},
   "outputs": [
    {
     "data": {
      "image/png": "[encoded data removed]",
      "text/plain": [
       "<matplotlib.figure.Figure at 0x7fe89832a6d0>"
      ]
     },
     "metadata": {},
     "output_type": "display_data"
    }
   ],
   "source": [
    "import seaborn as sns; sns.set()\n",
    "\n",
    "ax = sns.heatmap( D[:6,:6] )"
   ]
  },
  {
   "cell_type": "code",
   "execution_count": 63,
   "metadata": {},
   "outputs": [
    {
     "name": "stderr",
     "output_type": "stream",
     "text": [
      "/home/garner1/anaconda2/lib/python2.7/site-packages/ipykernel_launcher.py:4: ClusterWarning: scipy.cluster: The symmetric non-negative hollow observation matrix looks suspiciously like an uncondensed distance matrix\n",
      "  after removing the cwd from sys.path.\n"
     ]
    },
    {
     "data": {
      "text/plain": [
       "<seaborn.matrix.ClusterGrid at 0x7fe878e4b890>"
      ]
     },
     "execution_count": 63,
     "metadata": {},
     "output_type": "execute_result"
    },
    {
     "data": {
      "image/png": "[encoded data removed]",
      "text/plain": [
       "<matplotlib.figure.Figure at 0x7fe878c81290>"
      ]
     },
     "metadata": {},
     "output_type": "display_data"
    }
   ],
   "source": [
    "import scipy.spatial as sp, scipy.cluster.hierarchy as hc\n",
    "import seaborn as sns; sns.set()\n",
    "\n",
    "linkage = hc.linkage(D[:6,:6], method='average')\n",
    "sns.clustermap(D[:6,:6], row_linkage=linkage, col_linkage=linkage)"
   ]
  }
 ],
 "metadata": {
  "kernelspec": {
   "display_name": "Python 2",
   "language": "python",
   "name": "python2"
  },
  "language_info": {
   "codemirror_mode": {
    "name": "ipython",
    "version": 2
   },
   "file_extension": ".py",
   "mimetype": "text/x-python",
   "name": "python",
   "nbconvert_exporter": "python",
   "pygments_lexer": "ipython2",
   "version": "2.7.14"
  }
 },
 "nbformat": 4,
 "nbformat_minor": 2
}
